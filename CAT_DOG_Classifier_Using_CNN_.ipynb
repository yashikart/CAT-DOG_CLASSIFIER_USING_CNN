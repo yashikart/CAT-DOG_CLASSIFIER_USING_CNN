{
  "nbformat": 4,
  "nbformat_minor": 0,
  "metadata": {
    "colab": {
      "provenance": [],
      "gpuType": "T4",
      "authorship_tag": "ABX9TyP6VeFWr1ZwBa9QR+V2MAXd",
      "include_colab_link": true
    },
    "kernelspec": {
      "name": "python3",
      "display_name": "Python 3"
    },
    "language_info": {
      "name": "python"
    },
    "accelerator": "GPU"
  },
  "cells": [
    {
      "cell_type": "markdown",
      "metadata": {
        "id": "view-in-github",
        "colab_type": "text"
      },
      "source": [
        "<a href=\"https://colab.research.google.com/github/yashikart/CAT-DOG_CLASSIFIER_USING_CNN/blob/main/CAT_DOG_Classifier_Using_CNN_.ipynb\" target=\"_parent\"><img src=\"https://colab.research.google.com/assets/colab-badge.svg\" alt=\"Open In Colab\"/></a>"
      ]
    },
    {
      "cell_type": "code",
      "source": [
        "from google.colab import drive\n",
        "drive.mount('/content/drive')"
      ],
      "metadata": {
        "colab": {
          "base_uri": "https://localhost:8080/"
        },
        "id": "RlVR0bUVHGjY",
        "outputId": "cecfdc69-2270-4663-cf58-c65ec15c8ec5"
      },
      "execution_count": 121,
      "outputs": [
        {
          "output_type": "stream",
          "name": "stdout",
          "text": [
            "Drive already mounted at /content/drive; to attempt to forcibly remount, call drive.mount(\"/content/drive\", force_remount=True).\n"
          ]
        }
      ]
    },
    {
      "cell_type": "code",
      "source": [
        "import numpy as np\n",
        "import pandas as pd\n",
        "import tensorflow as tf\n",
        "from tensorflow.keras.models import Sequential\n",
        "from tensorflow.keras.preprocessing.image import ImageDataGenerator\n",
        "from  tensorflow.keras.layers import Conv2D,MaxPooling2D, Dense, Flatten, BatchNormalization, Dropout"
      ],
      "metadata": {
        "id": "IXzOyeFnHnK6"
      },
      "execution_count": 122,
      "outputs": []
    },
    {
      "cell_type": "code",
      "source": [
        "datagen = ImageDataGenerator(rescale=1/255,validation_split=0.2,\n",
        "                            rotation_range=10, width_shift_range=0.1,\n",
        "                            height_shift_range=0.1,\n",
        "                            shear_range=0.1,zoom_range=0.10,horizontal_flip=True)"
      ],
      "metadata": {
        "id": "qEfIANWlH2mS"
      },
      "execution_count": 123,
      "outputs": []
    },
    {
      "cell_type": "code",
      "source": [
        "train_directory = '/content/drive/MyDrive/Cat-Dog/training_set/training_set'\n",
        "train = datagen.flow_from_directory(\n",
        "    train_directory,\n",
        "    batch_size=32,\n",
        "    target_size=(28,28),\n",
        "    class_mode='binary'\n",
        ")\n",
        "\n",
        "test_directory = '/content/drive/MyDrive/Cat-Dog/test_set/test_set'\n",
        "test = datagen.flow_from_directory(\n",
        "    test_directory,\n",
        "    target_size=(28,28),\n",
        "    class_mode='binary'\n",
        ")"
      ],
      "metadata": {
        "colab": {
          "base_uri": "https://localhost:8080/"
        },
        "id": "C0VbKrZeH46q",
        "outputId": "8b64f24d-58fd-48f7-8b9b-872ffad8e0ae"
      },
      "execution_count": 124,
      "outputs": [
        {
          "output_type": "stream",
          "name": "stdout",
          "text": [
            "Found 8035 images belonging to 2 classes.\n",
            "Found 2033 images belonging to 2 classes.\n"
          ]
        }
      ]
    },
    {
      "cell_type": "code",
      "source": [
        "modl3 = Sequential()\n",
        "\n",
        "modl3.add(Conv2D(32,kernel_size=(3,3),padding='same',activation='relu',input_shape=(28,28,3)))\n",
        "modl3.add(MaxPooling2D(pool_size=(2,2)))\n",
        "\n",
        "modl3.add(Conv2D(64,kernel_size=(3,3),padding='same',activation='relu'))\n",
        "modl3.add(MaxPooling2D(pool_size=(2,2)))\n",
        "\n",
        "modl3.add(Conv2D(128,kernel_size=(3,3),padding='same',activation='relu'))\n",
        "modl3.add(MaxPooling2D(pool_size=(2,2)))\n",
        "\n",
        "\n",
        "modl3.add(Flatten())\n",
        "\n",
        "modl3.add(Dense(128,activation='relu'))\n",
        "modl3.add(Dropout(0.1))\n",
        "modl3.add(Dense(64,activation='relu'))\n",
        "modl3.add(Dropout(0.1))\n",
        "\n",
        "\n",
        "modl3.add(Dense(1,activation='sigmoid'))"
      ],
      "metadata": {
        "id": "3Ioy_2KjICwl"
      },
      "execution_count": 125,
      "outputs": []
    },
    {
      "cell_type": "code",
      "source": [
        "modl3.summary()"
      ],
      "metadata": {
        "colab": {
          "base_uri": "https://localhost:8080/"
        },
        "id": "CmWKub2GIRoF",
        "outputId": "07b26843-0852-4002-b73b-f9eb7d92e1af"
      },
      "execution_count": 126,
      "outputs": [
        {
          "output_type": "stream",
          "name": "stdout",
          "text": [
            "Model: \"sequential_11\"\n",
            "_________________________________________________________________\n",
            " Layer (type)                Output Shape              Param #   \n",
            "=================================================================\n",
            " conv2d_24 (Conv2D)          (None, 28, 28, 32)        896       \n",
            "                                                                 \n",
            " max_pooling2d_24 (MaxPooli  (None, 14, 14, 32)        0         \n",
            " ng2D)                                                           \n",
            "                                                                 \n",
            " conv2d_25 (Conv2D)          (None, 14, 14, 64)        18496     \n",
            "                                                                 \n",
            " max_pooling2d_25 (MaxPooli  (None, 7, 7, 64)          0         \n",
            " ng2D)                                                           \n",
            "                                                                 \n",
            " conv2d_26 (Conv2D)          (None, 7, 7, 128)         73856     \n",
            "                                                                 \n",
            " max_pooling2d_26 (MaxPooli  (None, 3, 3, 128)         0         \n",
            " ng2D)                                                           \n",
            "                                                                 \n",
            " flatten_11 (Flatten)        (None, 1152)              0         \n",
            "                                                                 \n",
            " dense_28 (Dense)            (None, 128)               147584    \n",
            "                                                                 \n",
            " dropout_17 (Dropout)        (None, 128)               0         \n",
            "                                                                 \n",
            " dense_29 (Dense)            (None, 64)                8256      \n",
            "                                                                 \n",
            " dropout_18 (Dropout)        (None, 64)                0         \n",
            "                                                                 \n",
            " dense_30 (Dense)            (None, 1)                 65        \n",
            "                                                                 \n",
            "=================================================================\n",
            "Total params: 249153 (973.25 KB)\n",
            "Trainable params: 249153 (973.25 KB)\n",
            "Non-trainable params: 0 (0.00 Byte)\n",
            "_________________________________________________________________\n"
          ]
        }
      ]
    },
    {
      "cell_type": "code",
      "source": [
        "modl3.compile(optimizer='adam',loss='binary_crossentropy',metrics=['accuracy'])"
      ],
      "metadata": {
        "id": "s-ILSLahISKO"
      },
      "execution_count": 127,
      "outputs": []
    },
    {
      "cell_type": "code",
      "source": [
        "history3 = modl3.fit(train,epochs=20,validation_data=test)"
      ],
      "metadata": {
        "colab": {
          "base_uri": "https://localhost:8080/"
        },
        "id": "jDgeThjAIWSx",
        "outputId": "2d0e6673-28af-4198-ea37-e96882e422b9"
      },
      "execution_count": 128,
      "outputs": [
        {
          "output_type": "stream",
          "name": "stdout",
          "text": [
            "Epoch 1/20\n",
            "252/252 [==============================] - 48s 167ms/step - loss: 0.6856 - accuracy: 0.5350 - val_loss: 0.6805 - val_accuracy: 0.5007\n",
            "Epoch 2/20\n",
            "252/252 [==============================] - 32s 127ms/step - loss: 0.6374 - accuracy: 0.6427 - val_loss: 0.6305 - val_accuracy: 0.6640\n",
            "Epoch 3/20\n",
            "252/252 [==============================] - 37s 148ms/step - loss: 0.5990 - accuracy: 0.6838 - val_loss: 0.5766 - val_accuracy: 0.7083\n",
            "Epoch 4/20\n",
            "252/252 [==============================] - 37s 145ms/step - loss: 0.5792 - accuracy: 0.6947 - val_loss: 0.5657 - val_accuracy: 0.7196\n",
            "Epoch 5/20\n",
            "252/252 [==============================] - 32s 125ms/step - loss: 0.5566 - accuracy: 0.7172 - val_loss: 0.5510 - val_accuracy: 0.7177\n",
            "Epoch 6/20\n",
            "252/252 [==============================] - 32s 129ms/step - loss: 0.5426 - accuracy: 0.7250 - val_loss: 0.5393 - val_accuracy: 0.7309\n",
            "Epoch 7/20\n",
            "252/252 [==============================] - 33s 130ms/step - loss: 0.5330 - accuracy: 0.7307 - val_loss: 0.5918 - val_accuracy: 0.6911\n",
            "Epoch 8/20\n",
            "252/252 [==============================] - 32s 127ms/step - loss: 0.5159 - accuracy: 0.7419 - val_loss: 0.5007 - val_accuracy: 0.7590\n",
            "Epoch 9/20\n",
            "252/252 [==============================] - 33s 130ms/step - loss: 0.5070 - accuracy: 0.7491 - val_loss: 0.5347 - val_accuracy: 0.7349\n",
            "Epoch 10/20\n",
            "252/252 [==============================] - 33s 130ms/step - loss: 0.4932 - accuracy: 0.7623 - val_loss: 0.5070 - val_accuracy: 0.7654\n",
            "Epoch 11/20\n",
            "252/252 [==============================] - 36s 145ms/step - loss: 0.4845 - accuracy: 0.7703 - val_loss: 0.4800 - val_accuracy: 0.7782\n",
            "Epoch 12/20\n",
            "252/252 [==============================] - 32s 128ms/step - loss: 0.4787 - accuracy: 0.7727 - val_loss: 0.5358 - val_accuracy: 0.7250\n",
            "Epoch 13/20\n",
            "252/252 [==============================] - 32s 129ms/step - loss: 0.4745 - accuracy: 0.7713 - val_loss: 0.4768 - val_accuracy: 0.7673\n",
            "Epoch 14/20\n",
            "252/252 [==============================] - 37s 146ms/step - loss: 0.4625 - accuracy: 0.7769 - val_loss: 0.4879 - val_accuracy: 0.7629\n",
            "Epoch 15/20\n",
            "252/252 [==============================] - 33s 133ms/step - loss: 0.4554 - accuracy: 0.7867 - val_loss: 0.4599 - val_accuracy: 0.7860\n",
            "Epoch 16/20\n",
            "252/252 [==============================] - 37s 147ms/step - loss: 0.4520 - accuracy: 0.7876 - val_loss: 0.4707 - val_accuracy: 0.7752\n",
            "Epoch 17/20\n",
            "252/252 [==============================] - 33s 130ms/step - loss: 0.4486 - accuracy: 0.7889 - val_loss: 0.4775 - val_accuracy: 0.7757\n",
            "Epoch 18/20\n",
            "252/252 [==============================] - 32s 127ms/step - loss: 0.4406 - accuracy: 0.7918 - val_loss: 0.4890 - val_accuracy: 0.7678\n",
            "Epoch 19/20\n",
            "252/252 [==============================] - 32s 127ms/step - loss: 0.4392 - accuracy: 0.7937 - val_loss: 0.4778 - val_accuracy: 0.7782\n",
            "Epoch 20/20\n",
            "252/252 [==============================] - 36s 145ms/step - loss: 0.4301 - accuracy: 0.7974 - val_loss: 0.4674 - val_accuracy: 0.7801\n"
          ]
        }
      ]
    },
    {
      "cell_type": "code",
      "source": [
        "results = modl3.evaluate(test, verbose=0)\n",
        "\n",
        "print(\"    Test Loss: {:.5f}\".format(results[0]))\n",
        "print(\"Test Accuracy: {:.2f}%\".format(results[1] * 100))"
      ],
      "metadata": {
        "colab": {
          "base_uri": "https://localhost:8080/"
        },
        "id": "c-bse66QIZp2",
        "outputId": "408aa8f4-f894-42ec-d4f1-a7ec629a2a29"
      },
      "execution_count": 129,
      "outputs": [
        {
          "output_type": "stream",
          "name": "stdout",
          "text": [
            "    Test Loss: 0.45791\n",
            "Test Accuracy: 78.80%\n"
          ]
        }
      ]
    },
    {
      "cell_type": "code",
      "source": [
        "import matplotlib.pyplot as plt\n",
        "\n",
        "plt.plot(history3.history['loss'],color='red',label='train')\n",
        "plt.plot(history3.history['val_loss'],color='blue',label='test')"
      ],
      "metadata": {
        "colab": {
          "base_uri": "https://localhost:8080/",
          "height": 447
        },
        "id": "7kC0nT1YJYE3",
        "outputId": "3bce538d-2986-4c4d-c7b1-b8475a2671b4"
      },
      "execution_count": 130,
      "outputs": [
        {
          "output_type": "execute_result",
          "data": {
            "text/plain": [
              "[<matplotlib.lines.Line2D at 0x78f1c8002b30>]"
            ]
          },
          "metadata": {},
          "execution_count": 130
        },
        {
          "output_type": "display_data",
          "data": {
            "text/plain": [
              "<Figure size 640x480 with 1 Axes>"
            ],
            "image/png": "[encoded data removed]"
          },
          "metadata": {}
        }
      ]
    },
    {
      "cell_type": "code",
      "source": [
        "import matplotlib.pyplot as plt\n",
        "\n",
        "plt.plot(history3.history['accuracy'],color='red',label='train')\n",
        "plt.plot(history3.history['val_accuracy'],color='blue',label='test')"
      ],
      "metadata": {
        "colab": {
          "base_uri": "https://localhost:8080/",
          "height": 447
        },
        "id": "Th2UFSJfJZPG",
        "outputId": "cf13b6a5-b9bc-4a65-9be6-4913c6c05c23"
      },
      "execution_count": 131,
      "outputs": [
        {
          "output_type": "execute_result",
          "data": {
            "text/plain": [
              "[<matplotlib.lines.Line2D at 0x78f1c807eb60>]"
            ]
          },
          "metadata": {},
          "execution_count": 131
        },
        {
          "output_type": "display_data",
          "data": {
            "text/plain": [
              "<Figure size 640x480 with 1 Axes>"
            ],
            "image/png": "[encoded data removed]"
          },
          "metadata": {}
        }
      ]
    },
    {
      "cell_type": "code",
      "source": [
        "import cv2\n",
        "from google.colab.patches import cv2_imshow\n",
        "from PIL import Image\n",
        "\n",
        "input_image_path = input(\"Image path : \")\n",
        "input_image = cv2.imread(input_image_path)\n",
        "\n",
        "input_image_resized = cv2.resize(input_image, (28,28))\n",
        "\n",
        "cv2_imshow(input_image_resized)\n",
        "\n",
        "input_image_scaled = input_image_resized/255\n",
        "\n",
        "input_image_reshaped = np.reshape(input_image_scaled, [1,28,28,3])\n",
        "\n",
        "input_prediction = modl3.predict(input_image_reshaped)\n",
        "\n",
        "print(input_prediction)\n",
        "\n",
        "if input_prediction < 0.75:\n",
        "  print(\"CAT\")\n",
        "else:\n",
        "  print(\"DOG\")"
      ],
      "metadata": {
        "colab": {
          "base_uri": "https://localhost:8080/",
          "height": 114
        },
        "id": "5CuKr9Cu8qC4",
        "outputId": "4e94a514-ea91-4945-9209-e705c86c4fbc"
      },
      "execution_count": 167,
      "outputs": [
        {
          "name": "stdout",
          "output_type": "stream",
          "text": [
            "Image path : /content/dog1.jpg\n"
          ]
        },
        {
          "output_type": "display_data",
          "data": {
            "text/plain": [
              "<PIL.Image.Image image mode=RGB size=28x28>"
            ],
            "image/png": "[encoded data removed]"
          },
          "metadata": {}
        },
        {
          "output_type": "stream",
          "name": "stdout",
          "text": [
            "1/1 [==============================] - 0s 17ms/step\n",
            "0.95780355\n",
            "DOG\n"
          ]
        }
      ]
    }
  ]
}